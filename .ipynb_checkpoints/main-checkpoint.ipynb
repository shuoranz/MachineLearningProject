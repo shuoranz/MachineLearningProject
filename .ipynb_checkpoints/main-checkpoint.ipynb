{
 "cells": [
  {
   "cell_type": "code",
   "execution_count": 25,
   "metadata": {},
   "outputs": [],
   "source": [
    "import pandas as pd\n",
    "import numpy as np\n",
    "import matplotlib.pyplot as plt\n",
    "from matplotlib import style\n",
    "style.use(\"ggplot\")\n",
    "from decimal import Decimal\n",
    "\n",
    "from sklearn.cluster import KMeans\n",
    "from sklearn.cluster import MiniBatchKMeans\n",
    "from sklearn.utils import shuffle\n",
    "from sklearn.utils import check_random_state\n",
    "from sklearn import metrics\n",
    "from scipy.spatial.distance import cdist\n",
    "\n",
    "random_state = np.random.RandomState(0)\n",
    "df=pd.read_csv('input.csv', sep=',',header=None)\n",
    "#print(df.values)\n",
    "for i in range(len(df)):\n",
    "    tempX = df[0][i]\n",
    "    tempY = df[1][i]\n",
    "    X.append([tempX,tempY])\n"
   ]
  },
  {
   "cell_type": "code",
   "execution_count": 39,
   "metadata": {},
   "outputs": [
    {
     "name": "stdout",
     "output_type": "stream",
     "text": [
      "1  11.2640174727\n",
      "2  0.235812984896\n",
      "3  0.440443673729\n",
      "4  0.791078302668\n",
      "5  0.391537918783\n",
      "6  0.487289363317\n",
      "7  1.01361327165e-08\n",
      "8  0.937430767721\n",
      "9  0.955150491794\n",
      "Found 7 objects\n"
     ]
    },
    {
     "data": {
      "image/png": "[encoded data removed]",
      "text/plain": [
       "<Figure size 432x288 with 1 Axes>"
      ]
     },
     "metadata": {},
     "output_type": "display_data"
    }
   ],
   "source": [
    "cluster_range = range( 1, 10 )\n",
    "cluster_errors = []\n",
    "\n",
    "previous_error = 9999999;\n",
    "ind = 1;\n",
    "for num_clusters in cluster_range:\n",
    "    clusters = KMeans( num_clusters )\n",
    "    clusters.fit( df )\n",
    "    print(str(ind) + \"  \" + str(clusters.inertia_/previous_error))\n",
    "    if clusters.inertia_/previous_error < 0.01:\n",
    "        k=ind\n",
    "    previous_error = clusters.inertia_\n",
    "    cluster_errors.append( clusters.inertia_ )\n",
    "    ind = ind+1\n",
    "clusters_df = pd.DataFrame( { \"num_clusters\":cluster_range, \"cluster_errors\": cluster_errors } )\n",
    "plt.plot( clusters_df.num_clusters, clusters_df.cluster_errors, marker = \"o\" )\n",
    "\n",
    "print(\"Found \" + str(k) + \" objects\")"
   ]
  },
  {
   "cell_type": "code",
   "execution_count": 45,
   "metadata": {},
   "outputs": [
    {
     "name": "stdout",
     "output_type": "stream",
     "text": [
      "[[ 2872.79848177   452.81179051   361.87071099   668.34515406]\n",
      " [  645.99935054   460.99734581   356.00022797   622.00051446]\n",
      " [ 1508.99988611   447.99902243   352.00209039   691.99937877]\n",
      " [  208.00124848   443.00222595   398.00325392   669.99789608]\n",
      " [ 1064.50022456   434.9998414    346.99871272   648.00153853]\n",
      " [ 2448.49900213   427.99858946   344.99834918   714.00159674]\n",
      " [ 1999.0016339    499.50095572   364.0003247    652.99907503]]\n",
      "[3 3 3 3 3 3 3 3 3 3 3 3 3 3 3 3 3 3 3 3 1 1 1 1 1 1 1 1 1 1 1 1 1 1 1 1 1\n",
      " 1 1 1 4 4 4 4 4 4 4 4 4 4 4 4 4 4 4 4 4 4 4 4 2 2 2 2 2 2 2 2 2 2 2 2 2 2\n",
      " 2 2 2 2 2 2 6 6 6 6 6 6 6 6 6 6 6 6 6 6 6 6 6 6 6 6 5 5 5 5 5 5 5 5 5 5 5\n",
      " 5 5 5 5 5 5 5 5 5 0 0 0 0 0 0 0 0 0 0 0 0 0 0 0 0 0 0 0 0]\n"
     ]
    },
    {
     "data": {
      "image/png": "[encoded data removed]",
      "text/plain": [
       "<Figure size 432x288 with 1 Axes>"
      ]
     },
     "metadata": {},
     "output_type": "display_data"
    },
    {
     "data": {
      "image/png": "[encoded data removed]",
      "text/plain": [
       "<Figure size 432x288 with 1 Axes>"
      ]
     },
     "metadata": {},
     "output_type": "display_data"
    }
   ],
   "source": [
    "\n",
    "kmeans = MiniBatchKMeans(n_clusters=7, init='random', n_init=1,\n",
    "                     random_state=random_state).fit(df)\n",
    "\n",
    "centroid = kmeans.cluster_centers_\n",
    "labels = kmeans.labels_\n",
    "print (centroid)\n",
    "print(labels)\n",
    "#print(len(df.values))\n",
    "colors = [\"g.\",\"r.\",\"c.\"]\n",
    "\n",
    "plt.scatter(centroid[:,0],centroid[:,1], marker = \"x\", s=150, linewidths = 7, zorder =10)\n",
    "plt.show()\n",
    "\n",
    "plt.scatter(centroid[:,2],centroid[:,3], marker = \"o\", s=150, linewidths = 7, zorder =10)\n",
    "plt.show()\n",
    "\n"
   ]
  },
  {
   "cell_type": "code",
   "execution_count": 60,
   "metadata": {},
   "outputs": [
    {
     "data": {
      "text/plain": [
       "66"
      ]
     },
     "execution_count": 60,
     "metadata": {},
     "output_type": "execute_result"
    }
   ],
   "source": [
    "f = open(\"output.xml\", \"w\")\n",
    "f.write(\"<annotation><filename>img2.jpg</filename><folder>example_folder</folder><source><sourceImage>The MIT-CSAIL database of objects and scenes</sourceImage><sourceAnnotation>LabelMe Webtool</sourceAnnotation></source>\")\n",
    "objIndex=0\n",
    "for result in centroid:\n",
    "    centerX = result[0]\n",
    "    centerY = result[1]\n",
    "    width = result[2]\n",
    "    height = result[3]\n",
    "    f.write(\"<object><name>obj\"+str(objIndex)+\"</name><deleted>0</deleted><verified>0</verified><occluded>no</occluded><attributes></attributes><parts><hasparts></hasparts><ispartof></ispartof></parts><date>10-Aug-2018 20:35:51</date><id>\"+str(objIndex)+\"</id><type>bounding_box</type><polygon><username>anonymous</username>\")\n",
    "    for x in range(4):\n",
    "        if x==0:\n",
    "            newX = centerX - width/2\n",
    "            newY = centerY - height/2\n",
    "        elif x==1:\n",
    "            newX = centerX + width/2\n",
    "            newY = centerY - height/2\n",
    "        elif x==2:\n",
    "            newX = centerX + width/2\n",
    "            newY = centerY + height/2\n",
    "        elif x==3:\n",
    "            newX = centerX - width/2\n",
    "            newY = centerY + height/2\n",
    "        f.write(\"<pt><x>\"+str(newX)+\"</x><y>\"+str(newY)+\"</y></pt>\")\n",
    "    f.write(\"</polygon></object>\")\n",
    "    objIndex = objIndex+1\n",
    "f.write(\"<imagesize><nrows></nrows><ncols></ncols></imagesize></annotation>\")\n",
    "\n",
    "print(\"generated the XML of clustered object\")"
   ]
  },
  {
   "cell_type": "code",
   "execution_count": null,
   "metadata": {},
   "outputs": [],
   "source": []
  }
 ],
 "metadata": {
  "kernelspec": {
   "display_name": "Python 3",
   "language": "python",
   "name": "python3"
  },
  "language_info": {
   "codemirror_mode": {
    "name": "ipython",
    "version": 3
   },
   "file_extension": ".py",
   "mimetype": "text/x-python",
   "name": "python",
   "nbconvert_exporter": "python",
   "pygments_lexer": "ipython3",
   "version": "3.6.5"
  }
 },
 "nbformat": 4,
 "nbformat_minor": 2
}
